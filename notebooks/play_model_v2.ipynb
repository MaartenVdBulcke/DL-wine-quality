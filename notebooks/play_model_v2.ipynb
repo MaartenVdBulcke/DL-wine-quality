{
 "cells": [
  {
   "cell_type": "code",
   "execution_count": null,
   "id": "f498a35a-abb9-43ed-a1f7-8c12c3e1b143",
   "metadata": {},
   "outputs": [],
   "source": []
  },
  {
   "cell_type": "code",
   "execution_count": 38,
   "id": "60b4df87-63ae-4e18-88e9-0ca72cc28a8d",
   "metadata": {},
   "outputs": [],
   "source": [
    "import pandas as pd\n",
    "import numpy as np\n",
    "from tensorflow import keras\n",
    "from tensorflow.keras.models import Sequential\n",
    "from tensorflow.keras.layers import Dense\n",
    "import matplotlib.pyplot as plt\n",
    "import seaborn as sns"
   ]
  },
  {
   "cell_type": "code",
   "execution_count": 39,
   "id": "98d90a72-b28b-4743-a4fb-60166b275649",
   "metadata": {},
   "outputs": [],
   "source": [
    "wine_full = pd.read_csv('data/wine_full.csv')"
   ]
  },
  {
   "cell_type": "code",
   "execution_count": 40,
   "id": "6c0aadba-5cc0-4960-a15c-3c8c00c94e80",
   "metadata": {},
   "outputs": [],
   "source": [
    "wine_binary = wine_full.copy()"
   ]
  },
  {
   "cell_type": "code",
   "execution_count": 41,
   "id": "9850da48-5df2-4afc-bc90-c2eb0eccb282",
   "metadata": {},
   "outputs": [
    {
     "data": {
      "text/html": [
       "<div>\n",
       "<style scoped>\n",
       "    .dataframe tbody tr th:only-of-type {\n",
       "        vertical-align: middle;\n",
       "    }\n",
       "\n",
       "    .dataframe tbody tr th {\n",
       "        vertical-align: top;\n",
       "    }\n",
       "\n",
       "    .dataframe thead th {\n",
       "        text-align: right;\n",
       "    }\n",
       "</style>\n",
       "<table border=\"1\" class=\"dataframe\">\n",
       "  <thead>\n",
       "    <tr style=\"text-align: right;\">\n",
       "      <th></th>\n",
       "      <th>fixed acidity</th>\n",
       "      <th>volatile acidity</th>\n",
       "      <th>citric acid</th>\n",
       "      <th>residual sugar</th>\n",
       "      <th>chlorides</th>\n",
       "      <th>free sulfur dioxide</th>\n",
       "      <th>total sulfur dioxide</th>\n",
       "      <th>density</th>\n",
       "      <th>pH</th>\n",
       "      <th>sulphates</th>\n",
       "      <th>alcohol</th>\n",
       "      <th>quality</th>\n",
       "    </tr>\n",
       "  </thead>\n",
       "  <tbody>\n",
       "    <tr>\n",
       "      <th>0</th>\n",
       "      <td>6.5</td>\n",
       "      <td>0.330</td>\n",
       "      <td>0.38</td>\n",
       "      <td>8.3</td>\n",
       "      <td>0.048</td>\n",
       "      <td>68.0</td>\n",
       "      <td>174.0</td>\n",
       "      <td>0.99492</td>\n",
       "      <td>3.14</td>\n",
       "      <td>0.50</td>\n",
       "      <td>9.6</td>\n",
       "      <td>0</td>\n",
       "    </tr>\n",
       "    <tr>\n",
       "      <th>1</th>\n",
       "      <td>8.0</td>\n",
       "      <td>0.200</td>\n",
       "      <td>0.44</td>\n",
       "      <td>1.0</td>\n",
       "      <td>0.057</td>\n",
       "      <td>24.0</td>\n",
       "      <td>111.0</td>\n",
       "      <td>0.99158</td>\n",
       "      <td>3.09</td>\n",
       "      <td>0.32</td>\n",
       "      <td>11.2</td>\n",
       "      <td>1</td>\n",
       "    </tr>\n",
       "    <tr>\n",
       "      <th>2</th>\n",
       "      <td>7.4</td>\n",
       "      <td>0.150</td>\n",
       "      <td>0.42</td>\n",
       "      <td>1.7</td>\n",
       "      <td>0.045</td>\n",
       "      <td>49.0</td>\n",
       "      <td>154.0</td>\n",
       "      <td>0.99200</td>\n",
       "      <td>3.00</td>\n",
       "      <td>0.60</td>\n",
       "      <td>10.4</td>\n",
       "      <td>1</td>\n",
       "    </tr>\n",
       "    <tr>\n",
       "      <th>3</th>\n",
       "      <td>5.8</td>\n",
       "      <td>0.360</td>\n",
       "      <td>0.32</td>\n",
       "      <td>1.7</td>\n",
       "      <td>0.033</td>\n",
       "      <td>22.0</td>\n",
       "      <td>96.0</td>\n",
       "      <td>0.98980</td>\n",
       "      <td>3.03</td>\n",
       "      <td>0.38</td>\n",
       "      <td>11.2</td>\n",
       "      <td>1</td>\n",
       "    </tr>\n",
       "    <tr>\n",
       "      <th>4</th>\n",
       "      <td>6.4</td>\n",
       "      <td>0.170</td>\n",
       "      <td>0.34</td>\n",
       "      <td>13.4</td>\n",
       "      <td>0.044</td>\n",
       "      <td>45.0</td>\n",
       "      <td>139.0</td>\n",
       "      <td>0.99752</td>\n",
       "      <td>3.06</td>\n",
       "      <td>0.43</td>\n",
       "      <td>9.1</td>\n",
       "      <td>1</td>\n",
       "    </tr>\n",
       "    <tr>\n",
       "      <th>...</th>\n",
       "      <td>...</td>\n",
       "      <td>...</td>\n",
       "      <td>...</td>\n",
       "      <td>...</td>\n",
       "      <td>...</td>\n",
       "      <td>...</td>\n",
       "      <td>...</td>\n",
       "      <td>...</td>\n",
       "      <td>...</td>\n",
       "      <td>...</td>\n",
       "      <td>...</td>\n",
       "      <td>...</td>\n",
       "    </tr>\n",
       "    <tr>\n",
       "      <th>5313</th>\n",
       "      <td>8.0</td>\n",
       "      <td>0.230</td>\n",
       "      <td>0.41</td>\n",
       "      <td>1.1</td>\n",
       "      <td>0.048</td>\n",
       "      <td>35.0</td>\n",
       "      <td>150.0</td>\n",
       "      <td>0.99168</td>\n",
       "      <td>3.09</td>\n",
       "      <td>0.47</td>\n",
       "      <td>11.2</td>\n",
       "      <td>0</td>\n",
       "    </tr>\n",
       "    <tr>\n",
       "      <th>5314</th>\n",
       "      <td>6.3</td>\n",
       "      <td>0.760</td>\n",
       "      <td>0.00</td>\n",
       "      <td>2.9</td>\n",
       "      <td>0.072</td>\n",
       "      <td>26.0</td>\n",
       "      <td>52.0</td>\n",
       "      <td>0.99379</td>\n",
       "      <td>3.51</td>\n",
       "      <td>0.60</td>\n",
       "      <td>11.5</td>\n",
       "      <td>1</td>\n",
       "    </tr>\n",
       "    <tr>\n",
       "      <th>5315</th>\n",
       "      <td>6.9</td>\n",
       "      <td>0.300</td>\n",
       "      <td>0.29</td>\n",
       "      <td>1.3</td>\n",
       "      <td>0.053</td>\n",
       "      <td>24.0</td>\n",
       "      <td>189.0</td>\n",
       "      <td>0.99362</td>\n",
       "      <td>3.29</td>\n",
       "      <td>0.54</td>\n",
       "      <td>9.9</td>\n",
       "      <td>0</td>\n",
       "    </tr>\n",
       "    <tr>\n",
       "      <th>5316</th>\n",
       "      <td>5.7</td>\n",
       "      <td>0.245</td>\n",
       "      <td>0.33</td>\n",
       "      <td>1.1</td>\n",
       "      <td>0.049</td>\n",
       "      <td>28.0</td>\n",
       "      <td>150.0</td>\n",
       "      <td>0.99270</td>\n",
       "      <td>3.13</td>\n",
       "      <td>0.42</td>\n",
       "      <td>9.3</td>\n",
       "      <td>0</td>\n",
       "    </tr>\n",
       "    <tr>\n",
       "      <th>5317</th>\n",
       "      <td>6.0</td>\n",
       "      <td>0.290</td>\n",
       "      <td>0.21</td>\n",
       "      <td>1.3</td>\n",
       "      <td>0.055</td>\n",
       "      <td>42.0</td>\n",
       "      <td>168.0</td>\n",
       "      <td>0.99140</td>\n",
       "      <td>3.32</td>\n",
       "      <td>0.43</td>\n",
       "      <td>11.1</td>\n",
       "      <td>1</td>\n",
       "    </tr>\n",
       "  </tbody>\n",
       "</table>\n",
       "<p>5318 rows × 12 columns</p>\n",
       "</div>"
      ],
      "text/plain": [
       "      fixed acidity  volatile acidity  citric acid  residual sugar  chlorides  \\\n",
       "0               6.5             0.330         0.38             8.3      0.048   \n",
       "1               8.0             0.200         0.44             1.0      0.057   \n",
       "2               7.4             0.150         0.42             1.7      0.045   \n",
       "3               5.8             0.360         0.32             1.7      0.033   \n",
       "4               6.4             0.170         0.34            13.4      0.044   \n",
       "...             ...               ...          ...             ...        ...   \n",
       "5313            8.0             0.230         0.41             1.1      0.048   \n",
       "5314            6.3             0.760         0.00             2.9      0.072   \n",
       "5315            6.9             0.300         0.29             1.3      0.053   \n",
       "5316            5.7             0.245         0.33             1.1      0.049   \n",
       "5317            6.0             0.290         0.21             1.3      0.055   \n",
       "\n",
       "      free sulfur dioxide  total sulfur dioxide  density    pH  sulphates  \\\n",
       "0                    68.0                 174.0  0.99492  3.14       0.50   \n",
       "1                    24.0                 111.0  0.99158  3.09       0.32   \n",
       "2                    49.0                 154.0  0.99200  3.00       0.60   \n",
       "3                    22.0                  96.0  0.98980  3.03       0.38   \n",
       "4                    45.0                 139.0  0.99752  3.06       0.43   \n",
       "...                   ...                   ...      ...   ...        ...   \n",
       "5313                 35.0                 150.0  0.99168  3.09       0.47   \n",
       "5314                 26.0                  52.0  0.99379  3.51       0.60   \n",
       "5315                 24.0                 189.0  0.99362  3.29       0.54   \n",
       "5316                 28.0                 150.0  0.99270  3.13       0.42   \n",
       "5317                 42.0                 168.0  0.99140  3.32       0.43   \n",
       "\n",
       "      alcohol  quality  \n",
       "0         9.6        0  \n",
       "1        11.2        1  \n",
       "2        10.4        1  \n",
       "3        11.2        1  \n",
       "4         9.1        1  \n",
       "...       ...      ...  \n",
       "5313     11.2        0  \n",
       "5314     11.5        1  \n",
       "5315      9.9        0  \n",
       "5316      9.3        0  \n",
       "5317     11.1        1  \n",
       "\n",
       "[5318 rows x 12 columns]"
      ]
     },
     "execution_count": 41,
     "metadata": {},
     "output_type": "execute_result"
    }
   ],
   "source": [
    "# make target binary \n",
    "target_mean = wine_binary.quality.mean()\n",
    "wine_binary.loc[wine_binary.quality < target_mean, 'quality'] = 0\n",
    "wine_binary.loc[wine_binary.quality > target_mean, 'quality'] = 1\n",
    "wine_binary"
   ]
  },
  {
   "cell_type": "code",
   "execution_count": 42,
   "id": "de10ae56-233d-4f82-a60b-1708603a5292",
   "metadata": {},
   "outputs": [],
   "source": [
    "X = wine_binary.drop('quality', axis=1)\n",
    "y = wine_binary.quality"
   ]
  },
  {
   "cell_type": "code",
   "execution_count": 43,
   "id": "0c69c836-9923-456f-bf74-34fd857ed246",
   "metadata": {},
   "outputs": [],
   "source": [
    "# normalise\n",
    "from sklearn.preprocessing import StandardScaler\n",
    "sc = StandardScaler()\n",
    "X_norm = sc.fit_transform(X)"
   ]
  },
  {
   "cell_type": "code",
   "execution_count": 44,
   "id": "1e7f7916-e2de-4e01-b4f6-4f74cb51998f",
   "metadata": {},
   "outputs": [],
   "source": [
    "from sklearn.model_selection import train_test_split\n",
    "X_train, X_test, y_train, y_test = train_test_split(X_norm, y, test_size=0.20, random_state=42, stratify=y)"
   ]
  },
  {
   "cell_type": "code",
   "execution_count": 45,
   "id": "4ae5de4f-60f0-48db-8f07-1fe0dfe48e08",
   "metadata": {},
   "outputs": [
    {
     "name": "stdout",
     "output_type": "stream",
     "text": [
      "Counter({1: 2665, 0: 1589})\n",
      "Counter({1: 666, 0: 398})\n"
     ]
    }
   ],
   "source": [
    "from collections import Counter\n",
    "print(Counter(y_train))\n",
    "print(Counter(y_test))"
   ]
  },
  {
   "cell_type": "code",
   "execution_count": 46,
   "id": "9defc876-81ca-444f-b019-4fe0b6ed2fb2",
   "metadata": {},
   "outputs": [
    {
     "data": {
      "text/plain": [
       "<AxesSubplot:xlabel='quality', ylabel='count'>"
      ]
     },
     "execution_count": 46,
     "metadata": {},
     "output_type": "execute_result"
    },
    {
     "data": {
      "image/png": "[encoded data removed]",
      "text/plain": [
       "<Figure size 432x288 with 1 Axes>"
      ]
     },
     "metadata": {
      "needs_background": "light"
     },
     "output_type": "display_data"
    }
   ],
   "source": [
    "sns.countplot(x=y_train)"
   ]
  },
  {
   "cell_type": "code",
   "execution_count": 47,
   "id": "a4691239-a126-4ddb-8e50-92a187629cdf",
   "metadata": {},
   "outputs": [],
   "source": [
    "# for binary model\n",
    "model = keras.models.Sequential([\n",
    "    keras.layers.Dense(6, input_shape=(11,), activation='relu'),\n",
    "    keras.layers.Dense(12, activation='relu'),\n",
    "    keras.layers.Dense(1, activation='sigmoid')\n",
    "])"
   ]
  },
  {
   "cell_type": "code",
   "execution_count": 48,
   "id": "f77da0a2-59ef-413b-a251-fffa83fd70a0",
   "metadata": {},
   "outputs": [],
   "source": [
    "model.build()"
   ]
  },
  {
   "cell_type": "code",
   "execution_count": 49,
   "id": "c7da3f2e-9a74-47f1-91a3-c571deee7b9f",
   "metadata": {},
   "outputs": [
    {
     "name": "stdout",
     "output_type": "stream",
     "text": [
      "Model: \"sequential_1\"\n",
      "_________________________________________________________________\n",
      "Layer (type)                 Output Shape              Param #   \n",
      "=================================================================\n",
      "dense_3 (Dense)              (None, 6)                 72        \n",
      "_________________________________________________________________\n",
      "dense_4 (Dense)              (None, 12)                84        \n",
      "_________________________________________________________________\n",
      "dense_5 (Dense)              (None, 1)                 13        \n",
      "=================================================================\n",
      "Total params: 169\n",
      "Trainable params: 169\n",
      "Non-trainable params: 0\n",
      "_________________________________________________________________\n"
     ]
    }
   ],
   "source": [
    "model.summary()"
   ]
  },
  {
   "cell_type": "code",
   "execution_count": 50,
   "id": "6e9b75e8-f38c-4bd5-b934-117bf9e69f55",
   "metadata": {},
   "outputs": [],
   "source": [
    "from tensorflow.keras.optimizers import Adam\n",
    "model.compile(optimizer=Adam(learning_rate=0.001), \n",
    "              loss='binary_crossentropy', \n",
    "              metrics=['accuracy'])"
   ]
  },
  {
   "cell_type": "code",
   "execution_count": null,
   "id": "6e70cf7c-809f-4bac-ba01-8e460a1f9825",
   "metadata": {},
   "outputs": [],
   "source": []
  },
  {
   "cell_type": "code",
   "execution_count": 51,
   "id": "e90d8656-8157-4197-8c40-501ecb840ece",
   "metadata": {},
   "outputs": [
    {
     "name": "stdout",
     "output_type": "stream",
     "text": [
      "Epoch 1/100\n",
      "120/120 [==============================] - 0s 3ms/step - loss: 0.6061 - accuracy: 0.6983 - val_loss: 0.5999 - val_accuracy: 0.6714\n",
      "Epoch 2/100\n",
      "120/120 [==============================] - 0s 2ms/step - loss: 0.5670 - accuracy: 0.7160 - val_loss: 0.5770 - val_accuracy: 0.6948\n",
      "Epoch 3/100\n",
      "120/120 [==============================] - 0s 2ms/step - loss: 0.5452 - accuracy: 0.7325 - val_loss: 0.5624 - val_accuracy: 0.7113\n",
      "Epoch 4/100\n",
      "120/120 [==============================] - 0s 2ms/step - loss: 0.5307 - accuracy: 0.7427 - val_loss: 0.5539 - val_accuracy: 0.7183\n",
      "Epoch 5/100\n",
      "120/120 [==============================] - 0s 2ms/step - loss: 0.5200 - accuracy: 0.7497 - val_loss: 0.5485 - val_accuracy: 0.7230\n",
      "Epoch 6/100\n",
      "120/120 [==============================] - 0s 2ms/step - loss: 0.5128 - accuracy: 0.7550 - val_loss: 0.5453 - val_accuracy: 0.7183\n",
      "Epoch 7/100\n",
      "120/120 [==============================] - 0s 2ms/step - loss: 0.5085 - accuracy: 0.7560 - val_loss: 0.5421 - val_accuracy: 0.7230\n",
      "Epoch 8/100\n",
      "120/120 [==============================] - 0s 2ms/step - loss: 0.5065 - accuracy: 0.7576 - val_loss: 0.5426 - val_accuracy: 0.7160\n",
      "Epoch 9/100\n",
      "120/120 [==============================] - 0s 2ms/step - loss: 0.5045 - accuracy: 0.7589 - val_loss: 0.5403 - val_accuracy: 0.7183\n",
      "Epoch 10/100\n",
      "120/120 [==============================] - 0s 2ms/step - loss: 0.5030 - accuracy: 0.7544 - val_loss: 0.5368 - val_accuracy: 0.7230\n",
      "Epoch 11/100\n",
      "120/120 [==============================] - 0s 2ms/step - loss: 0.5023 - accuracy: 0.7599 - val_loss: 0.5363 - val_accuracy: 0.7300\n",
      "Epoch 12/100\n",
      "120/120 [==============================] - 0s 2ms/step - loss: 0.5014 - accuracy: 0.7573 - val_loss: 0.5336 - val_accuracy: 0.7300\n",
      "Epoch 13/100\n",
      "120/120 [==============================] - 0s 2ms/step - loss: 0.5001 - accuracy: 0.7620 - val_loss: 0.5339 - val_accuracy: 0.7300\n",
      "Epoch 14/100\n",
      "120/120 [==============================] - 0s 2ms/step - loss: 0.4996 - accuracy: 0.7620 - val_loss: 0.5334 - val_accuracy: 0.7230\n",
      "Epoch 15/100\n",
      "120/120 [==============================] - 0s 2ms/step - loss: 0.4990 - accuracy: 0.7615 - val_loss: 0.5318 - val_accuracy: 0.7324\n",
      "Epoch 16/100\n",
      "120/120 [==============================] - 0s 2ms/step - loss: 0.4975 - accuracy: 0.7594 - val_loss: 0.5299 - val_accuracy: 0.7160\n",
      "Epoch 17/100\n",
      "120/120 [==============================] - 0s 2ms/step - loss: 0.4977 - accuracy: 0.7633 - val_loss: 0.5281 - val_accuracy: 0.7347\n",
      "Epoch 18/100\n",
      "120/120 [==============================] - 0s 2ms/step - loss: 0.4968 - accuracy: 0.7628 - val_loss: 0.5275 - val_accuracy: 0.7347\n",
      "Epoch 19/100\n",
      "120/120 [==============================] - 0s 2ms/step - loss: 0.4966 - accuracy: 0.7633 - val_loss: 0.5268 - val_accuracy: 0.7277\n",
      "Epoch 20/100\n",
      "120/120 [==============================] - 0s 2ms/step - loss: 0.4959 - accuracy: 0.7618 - val_loss: 0.5242 - val_accuracy: 0.7371\n",
      "Epoch 21/100\n",
      "120/120 [==============================] - 0s 2ms/step - loss: 0.4955 - accuracy: 0.7646 - val_loss: 0.5272 - val_accuracy: 0.7300\n",
      "Epoch 22/100\n",
      "120/120 [==============================] - 0s 2ms/step - loss: 0.4951 - accuracy: 0.7636 - val_loss: 0.5240 - val_accuracy: 0.7394\n",
      "Epoch 23/100\n",
      "120/120 [==============================] - 0s 2ms/step - loss: 0.4947 - accuracy: 0.7628 - val_loss: 0.5228 - val_accuracy: 0.7394\n",
      "Epoch 24/100\n",
      "120/120 [==============================] - 0s 2ms/step - loss: 0.4944 - accuracy: 0.7644 - val_loss: 0.5242 - val_accuracy: 0.7371\n",
      "Epoch 25/100\n",
      "120/120 [==============================] - 0s 2ms/step - loss: 0.4939 - accuracy: 0.7644 - val_loss: 0.5223 - val_accuracy: 0.7300\n",
      "Epoch 26/100\n",
      "120/120 [==============================] - 0s 2ms/step - loss: 0.4942 - accuracy: 0.7646 - val_loss: 0.5204 - val_accuracy: 0.7300\n",
      "Epoch 27/100\n",
      "120/120 [==============================] - 0s 2ms/step - loss: 0.4939 - accuracy: 0.7649 - val_loss: 0.5215 - val_accuracy: 0.7347\n",
      "Epoch 28/100\n",
      "120/120 [==============================] - 0s 2ms/step - loss: 0.4935 - accuracy: 0.7675 - val_loss: 0.5225 - val_accuracy: 0.7371\n",
      "Epoch 29/100\n",
      "120/120 [==============================] - 0s 2ms/step - loss: 0.4930 - accuracy: 0.7652 - val_loss: 0.5233 - val_accuracy: 0.7394\n",
      "Epoch 30/100\n",
      "120/120 [==============================] - 0s 2ms/step - loss: 0.4932 - accuracy: 0.7657 - val_loss: 0.5224 - val_accuracy: 0.7371\n",
      "Epoch 31/100\n",
      "120/120 [==============================] - 0s 2ms/step - loss: 0.4924 - accuracy: 0.7654 - val_loss: 0.5195 - val_accuracy: 0.7347\n",
      "Epoch 32/100\n",
      "120/120 [==============================] - 0s 2ms/step - loss: 0.4921 - accuracy: 0.7685 - val_loss: 0.5197 - val_accuracy: 0.7371\n",
      "Epoch 33/100\n",
      "120/120 [==============================] - 0s 2ms/step - loss: 0.4920 - accuracy: 0.7691 - val_loss: 0.5207 - val_accuracy: 0.7277\n",
      "Epoch 34/100\n",
      "120/120 [==============================] - 0s 2ms/step - loss: 0.4916 - accuracy: 0.7654 - val_loss: 0.5214 - val_accuracy: 0.7418\n",
      "Epoch 35/100\n",
      "120/120 [==============================] - 0s 2ms/step - loss: 0.4920 - accuracy: 0.7672 - val_loss: 0.5181 - val_accuracy: 0.7347\n",
      "Epoch 36/100\n",
      "120/120 [==============================] - 0s 2ms/step - loss: 0.4911 - accuracy: 0.7657 - val_loss: 0.5191 - val_accuracy: 0.7418\n",
      "Epoch 37/100\n",
      "120/120 [==============================] - 0s 2ms/step - loss: 0.4910 - accuracy: 0.7683 - val_loss: 0.5230 - val_accuracy: 0.7371\n",
      "Epoch 38/100\n",
      "120/120 [==============================] - 0s 2ms/step - loss: 0.4906 - accuracy: 0.7667 - val_loss: 0.5189 - val_accuracy: 0.7418\n",
      "Epoch 39/100\n",
      "120/120 [==============================] - 0s 2ms/step - loss: 0.4902 - accuracy: 0.7672 - val_loss: 0.5173 - val_accuracy: 0.7371\n",
      "Epoch 40/100\n",
      "120/120 [==============================] - 0s 2ms/step - loss: 0.4904 - accuracy: 0.7672 - val_loss: 0.5172 - val_accuracy: 0.7418\n",
      "Epoch 41/100\n",
      "120/120 [==============================] - 0s 2ms/step - loss: 0.4896 - accuracy: 0.7699 - val_loss: 0.5167 - val_accuracy: 0.7347\n",
      "Epoch 42/100\n",
      "120/120 [==============================] - 0s 2ms/step - loss: 0.4899 - accuracy: 0.7693 - val_loss: 0.5189 - val_accuracy: 0.7465\n",
      "Epoch 43/100\n",
      "120/120 [==============================] - 0s 2ms/step - loss: 0.4889 - accuracy: 0.7678 - val_loss: 0.5137 - val_accuracy: 0.7488\n",
      "Epoch 44/100\n",
      "120/120 [==============================] - 0s 2ms/step - loss: 0.4896 - accuracy: 0.7675 - val_loss: 0.5150 - val_accuracy: 0.7371\n",
      "Epoch 45/100\n",
      "120/120 [==============================] - 0s 2ms/step - loss: 0.4889 - accuracy: 0.7654 - val_loss: 0.5156 - val_accuracy: 0.7465\n",
      "Epoch 46/100\n",
      "120/120 [==============================] - 0s 2ms/step - loss: 0.4889 - accuracy: 0.7714 - val_loss: 0.5154 - val_accuracy: 0.7394\n",
      "Epoch 47/100\n",
      "120/120 [==============================] - 0s 2ms/step - loss: 0.4900 - accuracy: 0.7672 - val_loss: 0.5155 - val_accuracy: 0.7418\n",
      "Epoch 48/100\n",
      "120/120 [==============================] - 0s 2ms/step - loss: 0.4891 - accuracy: 0.7691 - val_loss: 0.5151 - val_accuracy: 0.7371\n",
      "Epoch 49/100\n",
      "120/120 [==============================] - 0s 2ms/step - loss: 0.4887 - accuracy: 0.7670 - val_loss: 0.5138 - val_accuracy: 0.7394\n",
      "Epoch 50/100\n",
      "120/120 [==============================] - 0s 2ms/step - loss: 0.4880 - accuracy: 0.7709 - val_loss: 0.5142 - val_accuracy: 0.7441\n",
      "Epoch 51/100\n",
      "120/120 [==============================] - 0s 2ms/step - loss: 0.4881 - accuracy: 0.7691 - val_loss: 0.5135 - val_accuracy: 0.7394\n",
      "Epoch 52/100\n",
      "120/120 [==============================] - 0s 2ms/step - loss: 0.4880 - accuracy: 0.7696 - val_loss: 0.5118 - val_accuracy: 0.7441\n",
      "Epoch 53/100\n",
      "120/120 [==============================] - 0s 2ms/step - loss: 0.4875 - accuracy: 0.7709 - val_loss: 0.5130 - val_accuracy: 0.7418\n",
      "Epoch 54/100\n",
      "120/120 [==============================] - 0s 2ms/step - loss: 0.4877 - accuracy: 0.7678 - val_loss: 0.5114 - val_accuracy: 0.7418\n",
      "Epoch 55/100\n",
      "120/120 [==============================] - 0s 2ms/step - loss: 0.4871 - accuracy: 0.7701 - val_loss: 0.5124 - val_accuracy: 0.7394\n",
      "Epoch 56/100\n",
      "120/120 [==============================] - 0s 2ms/step - loss: 0.4871 - accuracy: 0.7691 - val_loss: 0.5137 - val_accuracy: 0.7441\n",
      "Epoch 57/100\n",
      "120/120 [==============================] - 0s 2ms/step - loss: 0.4869 - accuracy: 0.7696 - val_loss: 0.5118 - val_accuracy: 0.7394\n",
      "Epoch 58/100\n",
      "120/120 [==============================] - 0s 2ms/step - loss: 0.4875 - accuracy: 0.7691 - val_loss: 0.5121 - val_accuracy: 0.7441\n",
      "Epoch 59/100\n",
      "120/120 [==============================] - 0s 2ms/step - loss: 0.4866 - accuracy: 0.7712 - val_loss: 0.5128 - val_accuracy: 0.7418\n",
      "Epoch 60/100\n",
      "120/120 [==============================] - 0s 2ms/step - loss: 0.4863 - accuracy: 0.7688 - val_loss: 0.5128 - val_accuracy: 0.7441\n",
      "Epoch 61/100\n",
      "120/120 [==============================] - 0s 2ms/step - loss: 0.4866 - accuracy: 0.7730 - val_loss: 0.5138 - val_accuracy: 0.7418\n",
      "Epoch 62/100\n",
      "120/120 [==============================] - 0s 1ms/step - loss: 0.4859 - accuracy: 0.7691 - val_loss: 0.5124 - val_accuracy: 0.7418\n",
      "Epoch 63/100\n",
      "120/120 [==============================] - 0s 1ms/step - loss: 0.4861 - accuracy: 0.7714 - val_loss: 0.5126 - val_accuracy: 0.7418\n",
      "Epoch 64/100\n",
      "120/120 [==============================] - 0s 2ms/step - loss: 0.4867 - accuracy: 0.7738 - val_loss: 0.5128 - val_accuracy: 0.7465\n",
      "Epoch 65/100\n",
      "120/120 [==============================] - 0s 2ms/step - loss: 0.4858 - accuracy: 0.7688 - val_loss: 0.5133 - val_accuracy: 0.7465\n",
      "Epoch 66/100\n",
      "120/120 [==============================] - 0s 2ms/step - loss: 0.4858 - accuracy: 0.7727 - val_loss: 0.5128 - val_accuracy: 0.7465\n",
      "Epoch 67/100\n",
      "120/120 [==============================] - 0s 2ms/step - loss: 0.4856 - accuracy: 0.7683 - val_loss: 0.5113 - val_accuracy: 0.7441\n",
      "Epoch 68/100\n",
      "120/120 [==============================] - 0s 2ms/step - loss: 0.4855 - accuracy: 0.7717 - val_loss: 0.5126 - val_accuracy: 0.7488\n",
      "Epoch 69/100\n",
      "120/120 [==============================] - 0s 2ms/step - loss: 0.4850 - accuracy: 0.7709 - val_loss: 0.5095 - val_accuracy: 0.7418\n",
      "Epoch 70/100\n",
      "120/120 [==============================] - 0s 2ms/step - loss: 0.4852 - accuracy: 0.7717 - val_loss: 0.5116 - val_accuracy: 0.7441\n",
      "Epoch 71/100\n",
      "120/120 [==============================] - 0s 2ms/step - loss: 0.4848 - accuracy: 0.7701 - val_loss: 0.5111 - val_accuracy: 0.7371\n",
      "Epoch 72/100\n",
      "120/120 [==============================] - 0s 2ms/step - loss: 0.4847 - accuracy: 0.7701 - val_loss: 0.5108 - val_accuracy: 0.7441\n",
      "Epoch 73/100\n",
      "120/120 [==============================] - 0s 2ms/step - loss: 0.4849 - accuracy: 0.7693 - val_loss: 0.5116 - val_accuracy: 0.7441\n",
      "Epoch 74/100\n",
      "120/120 [==============================] - 0s 2ms/step - loss: 0.4848 - accuracy: 0.7717 - val_loss: 0.5119 - val_accuracy: 0.7488\n",
      "Epoch 75/100\n",
      "120/120 [==============================] - 0s 2ms/step - loss: 0.4846 - accuracy: 0.7706 - val_loss: 0.5091 - val_accuracy: 0.7465\n",
      "Epoch 76/100\n",
      "120/120 [==============================] - 0s 2ms/step - loss: 0.4844 - accuracy: 0.7719 - val_loss: 0.5095 - val_accuracy: 0.7418\n",
      "Epoch 77/100\n",
      "120/120 [==============================] - 0s 2ms/step - loss: 0.4844 - accuracy: 0.7717 - val_loss: 0.5103 - val_accuracy: 0.7418\n",
      "Epoch 78/100\n",
      "120/120 [==============================] - 0s 2ms/step - loss: 0.4846 - accuracy: 0.7706 - val_loss: 0.5097 - val_accuracy: 0.7465\n",
      "Epoch 79/100\n",
      "120/120 [==============================] - 0s 2ms/step - loss: 0.4840 - accuracy: 0.7696 - val_loss: 0.5116 - val_accuracy: 0.7488\n",
      "Epoch 80/100\n",
      "120/120 [==============================] - 0s 2ms/step - loss: 0.4840 - accuracy: 0.7717 - val_loss: 0.5116 - val_accuracy: 0.7465\n",
      "Epoch 81/100\n",
      "120/120 [==============================] - 0s 2ms/step - loss: 0.4838 - accuracy: 0.7722 - val_loss: 0.5095 - val_accuracy: 0.7441\n",
      "Epoch 82/100\n",
      "120/120 [==============================] - 0s 2ms/step - loss: 0.4835 - accuracy: 0.7691 - val_loss: 0.5114 - val_accuracy: 0.7535\n",
      "Epoch 83/100\n",
      "120/120 [==============================] - 0s 2ms/step - loss: 0.4836 - accuracy: 0.7688 - val_loss: 0.5102 - val_accuracy: 0.7441\n",
      "Epoch 84/100\n",
      "120/120 [==============================] - 0s 2ms/step - loss: 0.4839 - accuracy: 0.7701 - val_loss: 0.5101 - val_accuracy: 0.7488\n",
      "Epoch 85/100\n",
      "120/120 [==============================] - 0s 2ms/step - loss: 0.4833 - accuracy: 0.7688 - val_loss: 0.5088 - val_accuracy: 0.7441\n",
      "Epoch 86/100\n",
      "120/120 [==============================] - 0s 2ms/step - loss: 0.4831 - accuracy: 0.7732 - val_loss: 0.5097 - val_accuracy: 0.7465\n",
      "Epoch 87/100\n",
      "120/120 [==============================] - 0s 2ms/step - loss: 0.4829 - accuracy: 0.7751 - val_loss: 0.5089 - val_accuracy: 0.7465\n",
      "Epoch 88/100\n",
      "120/120 [==============================] - 0s 2ms/step - loss: 0.4830 - accuracy: 0.7709 - val_loss: 0.5110 - val_accuracy: 0.7512\n",
      "Epoch 89/100\n",
      "120/120 [==============================] - 0s 2ms/step - loss: 0.4830 - accuracy: 0.7709 - val_loss: 0.5111 - val_accuracy: 0.7512\n",
      "Epoch 90/100\n",
      "120/120 [==============================] - 0s 2ms/step - loss: 0.4831 - accuracy: 0.7696 - val_loss: 0.5122 - val_accuracy: 0.7488\n",
      "Epoch 91/100\n",
      "120/120 [==============================] - 0s 2ms/step - loss: 0.4825 - accuracy: 0.7719 - val_loss: 0.5104 - val_accuracy: 0.7441\n",
      "Epoch 92/100\n",
      "120/120 [==============================] - 0s 2ms/step - loss: 0.4828 - accuracy: 0.7725 - val_loss: 0.5110 - val_accuracy: 0.7535\n",
      "Epoch 93/100\n",
      "120/120 [==============================] - 0s 2ms/step - loss: 0.4827 - accuracy: 0.7735 - val_loss: 0.5106 - val_accuracy: 0.7418\n",
      "Epoch 94/100\n",
      "120/120 [==============================] - 0s 2ms/step - loss: 0.4823 - accuracy: 0.7685 - val_loss: 0.5105 - val_accuracy: 0.7512\n",
      "Epoch 95/100\n",
      "120/120 [==============================] - 0s 2ms/step - loss: 0.4823 - accuracy: 0.7717 - val_loss: 0.5098 - val_accuracy: 0.7441\n",
      "Epoch 96/100\n",
      "120/120 [==============================] - 0s 2ms/step - loss: 0.4822 - accuracy: 0.7693 - val_loss: 0.5105 - val_accuracy: 0.7465\n",
      "Epoch 97/100\n",
      "120/120 [==============================] - 0s 1ms/step - loss: 0.4822 - accuracy: 0.7717 - val_loss: 0.5096 - val_accuracy: 0.7418\n",
      "Epoch 98/100\n",
      "120/120 [==============================] - 0s 2ms/step - loss: 0.4822 - accuracy: 0.7701 - val_loss: 0.5115 - val_accuracy: 0.7512\n",
      "Epoch 99/100\n",
      "120/120 [==============================] - 0s 2ms/step - loss: 0.4820 - accuracy: 0.7740 - val_loss: 0.5127 - val_accuracy: 0.7465\n",
      "Epoch 100/100\n",
      "120/120 [==============================] - 0s 2ms/step - loss: 0.4820 - accuracy: 0.7712 - val_loss: 0.5126 - val_accuracy: 0.7488\n"
     ]
    }
   ],
   "source": [
    "history = model.fit(X_train, y_train, epochs=100, batch_size=32, validation_split=0.1)"
   ]
  },
  {
   "cell_type": "code",
   "execution_count": 52,
   "id": "ea5d3dd5-4324-4d6c-9cfc-b33c114ce592",
   "metadata": {},
   "outputs": [],
   "source": [
    "loss = history.history['loss']\n",
    "accuracy = history.history['accuracy']"
   ]
  },
  {
   "cell_type": "code",
   "execution_count": 53,
   "id": "b0eb9a8a-943f-48ce-b16f-df88ff1bc48e",
   "metadata": {},
   "outputs": [
    {
     "data": {
      "image/png": "[encoded data removed]",
      "text/plain": [
       "<Figure size 720x288 with 2 Axes>"
      ]
     },
     "metadata": {
      "needs_background": "light"
     },
     "output_type": "display_data"
    }
   ],
   "source": [
    "fig, axs = plt.subplots(nrows=1,ncols=2,figsize=(10,4))\n",
    "axs[0].plot(range(len(loss)), loss)\n",
    "axs[0].set(xlabel=\"Epochs\", ylabel=\"Loss\", title=\"Training loss\")\n",
    "axs[1].plot(range(len(accuracy)), accuracy)\n",
    "axs[1].set(xlabel=\"Epochs\", ylabel=\"Accuracy\", title=\"Training accuracy\")\n",
    "plt.show()"
   ]
  },
  {
   "cell_type": "code",
   "execution_count": 54,
   "id": "6ab87403-876c-413f-841a-3b1a96ee625c",
   "metadata": {},
   "outputs": [
    {
     "name": "stdout",
     "output_type": "stream",
     "text": [
      "34/34 [==============================] - 0s 1ms/step - loss: 0.5165 - accuracy: 0.7481\n",
      "[0.5165321826934814, 0.7481203079223633]\n",
      "Accuracy on test set is 74.81%\n"
     ]
    }
   ],
   "source": [
    "# y_pred = model.predict_classes(X_test)\n",
    "y_pred = (model.predict(X_test) > 0.5).astype(\"int32\")\n",
    "results = model.evaluate(X_test, y_test, batch_size=32)\n",
    "print(results)\n",
    "print(f\"Accuracy on test set is {results[1]*100:.2f}%\")"
   ]
  },
  {
   "cell_type": "code",
   "execution_count": 55,
   "id": "b95def84-8c82-473f-9a0e-8436638876a9",
   "metadata": {},
   "outputs": [],
   "source": [
    "model.save('models/model_v2.h5')\n",
    "# model = keras.models.load_model('path/to/location')"
   ]
  },
  {
   "cell_type": "code",
   "execution_count": 56,
   "id": "d4edc9eb-2faa-4e75-8a4e-b048a6f3bdcf",
   "metadata": {},
   "outputs": [
    {
     "name": "stdout",
     "output_type": "stream",
     "text": [
      "133/133 [==============================] - 0s 1ms/step - loss: 0.4835 - accuracy: 0.7689\n"
     ]
    },
    {
     "data": {
      "text/plain": [
       "[0.4834910035133362, 0.7689233422279358]"
      ]
     },
     "execution_count": 56,
     "metadata": {},
     "output_type": "execute_result"
    }
   ],
   "source": [
    "model.evaluate(X_train, y_train)"
   ]
  },
  {
   "cell_type": "code",
   "execution_count": 57,
   "id": "59d45077-52f7-43de-b73d-cf623b7fe6c4",
   "metadata": {},
   "outputs": [
    {
     "name": "stdout",
     "output_type": "stream",
     "text": [
      "              precision    recall  f1-score   support\n",
      "\n",
      "           0       0.67      0.64      0.65       398\n",
      "           1       0.79      0.81      0.80       666\n",
      "\n",
      "    accuracy                           0.75      1064\n",
      "   macro avg       0.73      0.73      0.73      1064\n",
      "weighted avg       0.75      0.75      0.75      1064\n",
      "\n"
     ]
    }
   ],
   "source": [
    "from sklearn.metrics import classification_report\n",
    "print(classification_report(y_test, y_pred))"
   ]
  },
  {
   "cell_type": "code",
   "execution_count": 59,
   "id": "64390384-5c2e-47dc-bc40-e2f4c62eecea",
   "metadata": {},
   "outputs": [
    {
     "data": {
      "image/png": "[encoded data removed]",
      "text/plain": [
       "<Figure size 432x288 with 2 Axes>"
      ]
     },
     "metadata": {
      "needs_background": "light"
     },
     "output_type": "display_data"
    },
    {
     "data": {
      "image/png": "[encoded data removed]",
      "text/plain": [
       "<Figure size 432x288 with 1 Axes>"
      ]
     },
     "metadata": {
      "needs_background": "light"
     },
     "output_type": "display_data"
    },
    {
     "ename": "AttributeError",
     "evalue": "module 'matplotlib.pyplot' has no attribute 'labels'",
     "output_type": "error",
     "traceback": [
      "\u001b[1;31m---------------------------------------------------------------------------\u001b[0m",
      "\u001b[1;31mAttributeError\u001b[0m                            Traceback (most recent call last)",
      "\u001b[1;32m~\\AppData\\Local\\Temp/ipykernel_25948/1838935126.py\u001b[0m in \u001b[0;36m<module>\u001b[1;34m\u001b[0m\n\u001b[0;32m     28\u001b[0m \u001b[0mmodels\u001b[0m \u001b[1;33m=\u001b[0m \u001b[1;33m[\u001b[0m\u001b[1;34m'train'\u001b[0m\u001b[1;33m,\u001b[0m \u001b[1;34m'validation'\u001b[0m\u001b[1;33m,\u001b[0m \u001b[1;34m'test'\u001b[0m\u001b[1;33m]\u001b[0m\u001b[1;33m\u001b[0m\u001b[1;33m\u001b[0m\u001b[0m\n\u001b[0;32m     29\u001b[0m \u001b[0msns\u001b[0m\u001b[1;33m.\u001b[0m\u001b[0mbarplot\u001b[0m\u001b[1;33m(\u001b[0m\u001b[0mx\u001b[0m\u001b[1;33m=\u001b[0m\u001b[0mscore_labels\u001b[0m\u001b[1;33m,\u001b[0m \u001b[0my\u001b[0m\u001b[1;33m=\u001b[0m\u001b[0mscores\u001b[0m\u001b[1;33m)\u001b[0m\u001b[1;33m\u001b[0m\u001b[1;33m\u001b[0m\u001b[0m\n\u001b[1;32m---> 30\u001b[1;33m \u001b[0mplt\u001b[0m\u001b[1;33m.\u001b[0m\u001b[0mlabels\u001b[0m\u001b[1;33m(\u001b[0m\u001b[0mscores\u001b[0m\u001b[1;33m)\u001b[0m\u001b[1;33m\u001b[0m\u001b[1;33m\u001b[0m\u001b[0m\n\u001b[0m\u001b[0;32m     31\u001b[0m \u001b[0mplt\u001b[0m\u001b[1;33m.\u001b[0m\u001b[0mylim\u001b[0m\u001b[1;33m(\u001b[0m\u001b[1;33m[\u001b[0m\u001b[1;36m0\u001b[0m\u001b[1;33m,\u001b[0m\u001b[1;36m1\u001b[0m\u001b[1;33m]\u001b[0m\u001b[1;33m)\u001b[0m\u001b[1;33m\u001b[0m\u001b[1;33m\u001b[0m\u001b[0m\n\u001b[0;32m     32\u001b[0m \u001b[0mplt\u001b[0m\u001b[1;33m.\u001b[0m\u001b[0mtitle\u001b[0m\u001b[1;33m(\u001b[0m\u001b[1;34m'accuracies normalised model'\u001b[0m\u001b[1;33m)\u001b[0m\u001b[1;33m\u001b[0m\u001b[1;33m\u001b[0m\u001b[0m\n",
      "\u001b[1;31mAttributeError\u001b[0m: module 'matplotlib.pyplot' has no attribute 'labels'"
     ]
    },
    {
     "data": {
      "image/png": "[encoded data removed]",
      "text/plain": [
       "<Figure size 432x288 with 1 Axes>"
      ]
     },
     "metadata": {
      "needs_background": "light"
     },
     "output_type": "display_data"
    }
   ],
   "source": [
    "from sklearn.metrics import ConfusionMatrixDisplay, confusion_matrix, plot_roc_curve, roc_curve, roc_auc_score\n",
    "ConfusionMatrixDisplay(confusion_matrix=confusion_matrix(y_test, y_pred))\n",
    "\n",
    "labels = ['bad wine', 'good wine']\n",
    "disp = ConfusionMatrixDisplay(confusion_matrix=confusion_matrix(y_test, y_pred, normalize='true'), display_labels=labels)\n",
    "disp.plot(cmap=plt.cm.Purples)\n",
    "plt.title('confusion matrix normalised model')\n",
    "plt.savefig('visuals/normalised_confusionmatrix.png')\n",
    "plt.show() \n",
    "false_pos_rate, true_pos_rate, thresholds = roc_curve(y_test, y_pred)\n",
    "\n",
    "def plot_roc_curve(fpr, tpr, label=None):\n",
    "    plt.plot(fpr, tpr, label=label)\n",
    "    plt.plot([0, 1], [0, 1], linestyle='--')\n",
    "    plt.legend()\n",
    "\n",
    "roc_auc = round(roc_auc_score(y_test, y_pred), 2)\n",
    "label_string = 'AUC normalised model:' + str(roc_auc)\n",
    "plot_roc_curve(false_pos_rate, true_pos_rate, label=label_string)\n",
    "plt.title('ROC curve normalised model')\n",
    "plt.xlabel('false positive rate')\n",
    "plt.ylabel('true positive rate')\n",
    "plt.savefig('visuals/normalised_roccurve.png')\n",
    "plt.show()\n",
    "\n",
    "score_labels = ['train', 'validation', 'test'] #, 'f1', 'f1']\n",
    "scores = [0.772, 0.732, 0.751 ]\n",
    "models = ['train', 'validation', 'test']\n",
    "sns.barplot(x=score_labels, y=scores)\n",
    "plt.labels(scores)\n",
    "plt.ylim([0,1])\n",
    "plt.title('accuracies normalised model')\n",
    "plt.savefig('visuals/normalised_accuracies.png')\n",
    "plt.show() \n"
   ]
  },
  {
   "cell_type": "code",
   "execution_count": null,
   "id": "6b18c6ac-fb10-4bfb-b74d-230c28d6cb22",
   "metadata": {},
   "outputs": [],
   "source": [
    "from sklearn.metrics import ConfusionMatrixDisplay, confusion_matrix, plot_roc_curve, roc_curve, roc_auc_score, precision_recall_curve\n",
    "\n",
    "def plot_precision_recall_vs_threshold(precisions, recalls, thresholds):\n",
    "#     plt.plot(thresholds, precisions[:-1], 'b--', label='precision')\n",
    "#     plt.plot(thresholds, recalls[:-1], 'g-', label='recall')\n",
    "    plt.plot(recalls, precisions)\n",
    "    plt.legend()\n",
    "\n",
    "\n",
    "precisions, recalls, thresholds = precision_recall_curve(y_test, y_pred)\n",
    "\n",
    "    \n",
    "plot_precision_recall_vs_threshold(precisions, recalls, thresholds)\n",
    "plt.title('precision versus recall normalised model')\n",
    "plt.xlabel('recall (true positive rate)')\n",
    "plt.ylabel('precision')\n",
    "plt.savefig('visuals/normalised_precisionrecall.png')\n",
    "plt.show()"
   ]
  },
  {
   "cell_type": "code",
   "execution_count": null,
   "id": "6ce79d31-7d82-4f45-abef-8cfd081ecba5",
   "metadata": {},
   "outputs": [],
   "source": []
  }
 ],
 "metadata": {
  "kernelspec": {
   "display_name": "tf_becode",
   "language": "python",
   "name": "tf_becode"
  },
  "language_info": {
   "codemirror_mode": {
    "name": "ipython",
    "version": 3
   },
   "file_extension": ".py",
   "mimetype": "text/x-python",
   "name": "python",
   "nbconvert_exporter": "python",
   "pygments_lexer": "ipython3",
   "version": "3.7.11"
  }
 },
 "nbformat": 4,
 "nbformat_minor": 5
}
